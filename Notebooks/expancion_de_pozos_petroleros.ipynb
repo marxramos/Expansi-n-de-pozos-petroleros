{
 "cells": [
  {
   "cell_type": "markdown",
   "id": "510f0b19",
   "metadata": {},
   "source": [
    "## Descripción del proyecto\n",
    "Trabajas en la compañía de extracción de petróleo OilyGiant. Tu tarea es encontrar los mejores lugares donde abrir 200 pozos nuevos de petróleo.\n",
    "\n",
    "Para completar esta tarea, tendrás que realizar los siguientes pasos:\n",
    "\n",
    "Leer los archivos con los parámetros recogidos de pozos petrolíferos en la región seleccionada: calidad de crudo y volumen de reservas.\n",
    "Crear un modelo para predecir el volumen de reservas en pozos nuevos.\n",
    "Elegir los pozos petrolíferos que tienen los valores estimados más altos.\n",
    "Elegir la región con el beneficio total más alto para los pozos petrolíferos seleccionados.\n",
    "Tienes datos sobre muestras de crudo de tres regiones. Ya se conocen los parámetros de cada pozo petrolero de la región. Crea un modelo que ayude a elegir la región con el mayor margen de beneficio. Analiza los beneficios y riesgos potenciales utilizando la técnica bootstrapping.\n",
    "\n",
    "## Condiciones:\n",
    "Solo se debe usar la regresión lineal para el entrenamiento del modelo.\n",
    "Al explorar la región, se lleva a cabo un estudio de 500 puntos con la selección de los mejores 200 puntos para el cálculo del beneficio.\n",
    "El presupuesto para el desarrollo de 200 pozos petroleros es de 100 millones de dólares.\n",
    "Un barril de materias primas genera 4.5 USD de ingresos. El ingreso de una unidad de producto es de 4500 dólares (el volumen de reservas está expresado en miles de barriles).\n",
    "Después de la evaluación de riesgo, mantén solo las regiones con riesgo de pérdidas inferior al 2.5%. De las que se ajustan a los criterios, se debe seleccionar la región con el beneficio promedio más alto.\n",
    "Los datos son sintéticos: los detalles del contrato y las características del pozo no se publican.\n",
    "\n",
    "## Descripción de datos\n",
    "Los datos de exploración geológica de las tres regiones se almacenan en archivos:\n",
    "\n",
    "/datasets/geo_data_0.csv. Descarga el conjunto de datos\n",
    "/datasets/geo_data_1.csv. Descarga el conjunto de datos\n",
    "/datasets/geo_data_2.csv. Descarga el conjunto de datos\n",
    "\n",
    "    id — identificador único de pozo de petróleo\n",
    "    f0, f1, f2 — tres características de los puntos (su significado específico no es importante, pero las características en sí son significativas)\n",
    "    product — volumen de reservas en el pozo de petróleo (miles de barriles)."
   ]
  },
  {
   "cell_type": "code",
   "execution_count": 1,
   "id": "739b3f46",
   "metadata": {},
   "outputs": [],
   "source": [
    "# Importamos las librerias a utilizar\n",
    "import pandas as pd\n",
    "import matplotlib.pyplot as plt\n",
    "from sklearn.model_selection import train_test_split\n",
    "from sklearn.linear_model import LinearRegression\n",
    "from sklearn.metrics import mean_squared_error\n",
    "from numpy.random import RandomState"
   ]
  },
  {
   "cell_type": "code",
   "execution_count": 2,
   "id": "4c09c4e3",
   "metadata": {},
   "outputs": [],
   "source": [
    "# Extraemos los DF a utilizar.\n",
    "region_0 = pd.read_csv('../source/geo_data_0.csv')\n",
    "region_1 = pd.read_csv('../source/geo_data_1.csv')\n",
    "region_2 = pd.read_csv('../source/geo_data_2.csv')"
   ]
  },
  {
   "cell_type": "code",
   "execution_count": 3,
   "id": "a3f46439",
   "metadata": {},
   "outputs": [
    {
     "name": "stdout",
     "output_type": "stream",
     "text": [
      "<class 'pandas.core.frame.DataFrame'>\n",
      "RangeIndex: 100000 entries, 0 to 99999\n",
      "Data columns (total 5 columns):\n",
      " #   Column   Non-Null Count   Dtype  \n",
      "---  ------   --------------   -----  \n",
      " 0   id       100000 non-null  object \n",
      " 1   f0       100000 non-null  float64\n",
      " 2   f1       100000 non-null  float64\n",
      " 3   f2       100000 non-null  float64\n",
      " 4   product  100000 non-null  float64\n",
      "dtypes: float64(4), object(1)\n",
      "memory usage: 3.8+ MB\n"
     ]
    }
   ],
   "source": [
    "#Analizamos mi df region_0\n",
    "region_0.info()"
   ]
  },
  {
   "cell_type": "code",
   "execution_count": 4,
   "id": "b91edca0",
   "metadata": {},
   "outputs": [
    {
     "name": "stdout",
     "output_type": "stream",
     "text": [
      "Df region_0\n",
      "0\n",
      "Df regiom_0 a nivel de ID\n",
      "10\n"
     ]
    }
   ],
   "source": [
    "#Analizamos si existen valores duplicados en el Df general y en el Id.\n",
    "print('Df region_0')\n",
    "print(region_0.duplicated().sum())\n",
    "print('Df regiom_0 a nivel de ID')\n",
    "print(region_0['id'].duplicated().sum())"
   ]
  },
  {
   "cell_type": "code",
   "execution_count": 5,
   "id": "605cdc66",
   "metadata": {},
   "outputs": [
    {
     "name": "stdout",
     "output_type": "stream",
     "text": [
      "0\n"
     ]
    }
   ],
   "source": [
    "# Procedo a eliminar los 10 ID duplicados.\n",
    "region_0 = region_0.drop_duplicates(subset='id')\n",
    "# Volvemos a revisar los duplicados para veriicar que se hayan eliminado.\n",
    "print(region_0['id'].duplicated().sum())"
   ]
  },
  {
   "cell_type": "code",
   "execution_count": 6,
   "id": "43f3472d",
   "metadata": {},
   "outputs": [
    {
     "data": {
      "text/plain": [
       "array([[<Axes: title={'center': 'f0'}>, <Axes: title={'center': 'f1'}>],\n",
       "       [<Axes: title={'center': 'f2'}>,\n",
       "        <Axes: title={'center': 'product'}>]], dtype=object)"
      ]
     },
     "execution_count": 6,
     "metadata": {},
     "output_type": "execute_result"
    },
    {
     "data": {
      "image/png": "[encoded data removed]",
      "text/plain": [
       "<Figure size 640x480 with 4 Axes>"
      ]
     },
     "metadata": {},
     "output_type": "display_data"
    }
   ],
   "source": [
    "# Procemos a validar la distribucion de los datos a travez de un grafico.\n",
    "region_0.hist()"
   ]
  },
  {
   "cell_type": "code",
   "execution_count": 7,
   "id": "53af95ba",
   "metadata": {},
   "outputs": [
    {
     "data": {
      "text/html": [
       "<div>\n",
       "<style scoped>\n",
       "    .dataframe tbody tr th:only-of-type {\n",
       "        vertical-align: middle;\n",
       "    }\n",
       "\n",
       "    .dataframe tbody tr th {\n",
       "        vertical-align: top;\n",
       "    }\n",
       "\n",
       "    .dataframe thead th {\n",
       "        text-align: right;\n",
       "    }\n",
       "</style>\n",
       "<table border=\"1\" class=\"dataframe\">\n",
       "  <thead>\n",
       "    <tr style=\"text-align: right;\">\n",
       "      <th></th>\n",
       "      <th>id</th>\n",
       "      <th>f0</th>\n",
       "      <th>f1</th>\n",
       "      <th>f2</th>\n",
       "      <th>product</th>\n",
       "    </tr>\n",
       "  </thead>\n",
       "  <tbody>\n",
       "    <tr>\n",
       "      <th>24110</th>\n",
       "      <td>KmGbH</td>\n",
       "      <td>-0.681970</td>\n",
       "      <td>0.836569</td>\n",
       "      <td>6.844268</td>\n",
       "      <td>63.710834</td>\n",
       "    </tr>\n",
       "    <tr>\n",
       "      <th>13865</th>\n",
       "      <td>j8Kz1</td>\n",
       "      <td>-0.154881</td>\n",
       "      <td>0.316867</td>\n",
       "      <td>2.225437</td>\n",
       "      <td>112.938421</td>\n",
       "    </tr>\n",
       "    <tr>\n",
       "      <th>60544</th>\n",
       "      <td>nOEB9</td>\n",
       "      <td>1.125213</td>\n",
       "      <td>0.120156</td>\n",
       "      <td>-2.134023</td>\n",
       "      <td>35.961670</td>\n",
       "    </tr>\n",
       "    <tr>\n",
       "      <th>70458</th>\n",
       "      <td>mhwcp</td>\n",
       "      <td>0.077663</td>\n",
       "      <td>-0.020146</td>\n",
       "      <td>3.494393</td>\n",
       "      <td>156.739845</td>\n",
       "    </tr>\n",
       "    <tr>\n",
       "      <th>31748</th>\n",
       "      <td>gq1ED</td>\n",
       "      <td>2.072104</td>\n",
       "      <td>0.306156</td>\n",
       "      <td>5.082634</td>\n",
       "      <td>111.318072</td>\n",
       "    </tr>\n",
       "    <tr>\n",
       "      <th>40617</th>\n",
       "      <td>IJADJ</td>\n",
       "      <td>-0.790865</td>\n",
       "      <td>0.605501</td>\n",
       "      <td>-0.197828</td>\n",
       "      <td>57.796948</td>\n",
       "    </tr>\n",
       "    <tr>\n",
       "      <th>43705</th>\n",
       "      <td>j4FkN</td>\n",
       "      <td>-0.985623</td>\n",
       "      <td>0.603833</td>\n",
       "      <td>-2.012618</td>\n",
       "      <td>9.858281</td>\n",
       "    </tr>\n",
       "    <tr>\n",
       "      <th>93930</th>\n",
       "      <td>LC2It</td>\n",
       "      <td>-1.045169</td>\n",
       "      <td>0.108496</td>\n",
       "      <td>0.436107</td>\n",
       "      <td>26.186089</td>\n",
       "    </tr>\n",
       "    <tr>\n",
       "      <th>9004</th>\n",
       "      <td>liElQ</td>\n",
       "      <td>1.994243</td>\n",
       "      <td>0.504439</td>\n",
       "      <td>5.402529</td>\n",
       "      <td>162.701377</td>\n",
       "    </tr>\n",
       "  </tbody>\n",
       "</table>\n",
       "</div>"
      ],
      "text/plain": [
       "          id        f0        f1        f2     product\n",
       "24110  KmGbH -0.681970  0.836569  6.844268   63.710834\n",
       "13865  j8Kz1 -0.154881  0.316867  2.225437  112.938421\n",
       "60544  nOEB9  1.125213  0.120156 -2.134023   35.961670\n",
       "70458  mhwcp  0.077663 -0.020146  3.494393  156.739845\n",
       "31748  gq1ED  2.072104  0.306156  5.082634  111.318072\n",
       "40617  IJADJ -0.790865  0.605501 -0.197828   57.796948\n",
       "43705  j4FkN -0.985623  0.603833 -2.012618    9.858281\n",
       "93930  LC2It -1.045169  0.108496  0.436107   26.186089\n",
       "9004   liElQ  1.994243  0.504439  5.402529  162.701377"
      ]
     },
     "execution_count": 7,
     "metadata": {},
     "output_type": "execute_result"
    }
   ],
   "source": [
    "region_0.sample(9)"
   ]
  },
  {
   "cell_type": "code",
   "execution_count": 8,
   "id": "58d61785",
   "metadata": {},
   "outputs": [
    {
     "name": "stdout",
     "output_type": "stream",
     "text": [
      "<class 'pandas.core.frame.DataFrame'>\n",
      "RangeIndex: 100000 entries, 0 to 99999\n",
      "Data columns (total 5 columns):\n",
      " #   Column   Non-Null Count   Dtype  \n",
      "---  ------   --------------   -----  \n",
      " 0   id       100000 non-null  object \n",
      " 1   f0       100000 non-null  float64\n",
      " 2   f1       100000 non-null  float64\n",
      " 3   f2       100000 non-null  float64\n",
      " 4   product  100000 non-null  float64\n",
      "dtypes: float64(4), object(1)\n",
      "memory usage: 3.8+ MB\n"
     ]
    }
   ],
   "source": [
    "# Analizamos mi DF region_1\n",
    "region_1.info()"
   ]
  },
  {
   "cell_type": "code",
   "execution_count": 9,
   "id": "f295be16",
   "metadata": {},
   "outputs": [
    {
     "name": "stdout",
     "output_type": "stream",
     "text": [
      "Df region_1\n",
      "0\n",
      "Df region_1 a nivel de ID\n",
      "4\n"
     ]
    }
   ],
   "source": [
    "#Validamos si hay valores duplicados a nivel general.\n",
    "#Validamos si hay valores duplicados a nivel de ID\n",
    "print('Df region_1')\n",
    "print(region_1.duplicated().sum())\n",
    "print('Df region_1 a nivel de ID')\n",
    "print(region_1['id'].duplicated().sum())"
   ]
  },
  {
   "cell_type": "code",
   "execution_count": 10,
   "id": "a4380de5",
   "metadata": {},
   "outputs": [
    {
     "name": "stdout",
     "output_type": "stream",
     "text": [
      "0\n"
     ]
    }
   ],
   "source": [
    "# Procedo a eliminar los 10 ID duplicados.\n",
    "region_1 = region_1.drop_duplicates(subset='id')\n",
    "# Volvemos a revisar los duplicados para veriicar que se hayan eliminado.\n",
    "print(region_1['id'].duplicated().sum())"
   ]
  },
  {
   "cell_type": "code",
   "execution_count": 11,
   "id": "35fd471d",
   "metadata": {},
   "outputs": [
    {
     "data": {
      "text/plain": [
       "array([[<Axes: title={'center': 'f0'}>, <Axes: title={'center': 'f1'}>],\n",
       "       [<Axes: title={'center': 'f2'}>,\n",
       "        <Axes: title={'center': 'product'}>]], dtype=object)"
      ]
     },
     "execution_count": 11,
     "metadata": {},
     "output_type": "execute_result"
    },
    {
     "data": {
      "image/png": "[encoded data removed]",
      "text/plain": [
       "<Figure size 640x480 with 4 Axes>"
      ]
     },
     "metadata": {},
     "output_type": "display_data"
    }
   ],
   "source": [
    "# Procemos a validar la distribucion de los datos a travez de un grafico.\n",
    "region_1.hist()"
   ]
  },
  {
   "cell_type": "code",
   "execution_count": 12,
   "id": "b4e9b9a0",
   "metadata": {},
   "outputs": [
    {
     "name": "stdout",
     "output_type": "stream",
     "text": [
      "<class 'pandas.core.frame.DataFrame'>\n",
      "RangeIndex: 100000 entries, 0 to 99999\n",
      "Data columns (total 5 columns):\n",
      " #   Column   Non-Null Count   Dtype  \n",
      "---  ------   --------------   -----  \n",
      " 0   id       100000 non-null  object \n",
      " 1   f0       100000 non-null  float64\n",
      " 2   f1       100000 non-null  float64\n",
      " 3   f2       100000 non-null  float64\n",
      " 4   product  100000 non-null  float64\n",
      "dtypes: float64(4), object(1)\n",
      "memory usage: 3.8+ MB\n"
     ]
    }
   ],
   "source": [
    "region_2.info()"
   ]
  },
  {
   "cell_type": "code",
   "execution_count": 13,
   "id": "e8f599e9",
   "metadata": {},
   "outputs": [
    {
     "name": "stdout",
     "output_type": "stream",
     "text": [
      "Df region_2\n",
      "0\n",
      "Df region_2 a nivel de ID\n",
      "4\n"
     ]
    }
   ],
   "source": [
    "#Validamos si hay valores duplicados a nivel general.\n",
    "#Validamos si hay valores duplicados a nivel de ID\n",
    "print('Df region_2')\n",
    "print(region_2.duplicated().sum())\n",
    "print('Df region_2 a nivel de ID')\n",
    "print(region_2['id'].duplicated().sum())"
   ]
  },
  {
   "cell_type": "code",
   "execution_count": 14,
   "id": "1301093e",
   "metadata": {},
   "outputs": [
    {
     "name": "stdout",
     "output_type": "stream",
     "text": [
      "0\n"
     ]
    }
   ],
   "source": [
    "# Procedo a eliminar los 10 ID duplicados.\n",
    "region_2 = region_2.drop_duplicates(subset='id')\n",
    "# Volvemos a revisar los duplicados para veriicar que se hayan eliminado.\n",
    "print(region_2['id'].duplicated().sum())"
   ]
  },
  {
   "cell_type": "code",
   "execution_count": 15,
   "id": "b1694623",
   "metadata": {},
   "outputs": [
    {
     "data": {
      "text/plain": [
       "array([[<Axes: title={'center': 'f0'}>, <Axes: title={'center': 'f1'}>],\n",
       "       [<Axes: title={'center': 'f2'}>,\n",
       "        <Axes: title={'center': 'product'}>]], dtype=object)"
      ]
     },
     "execution_count": 15,
     "metadata": {},
     "output_type": "execute_result"
    },
    {
     "data": {
      "image/png": "[encoded data removed]",
      "text/plain": [
       "<Figure size 640x480 with 4 Axes>"
      ]
     },
     "metadata": {},
     "output_type": "display_data"
    }
   ],
   "source": [
    "region_2.hist()"
   ]
  },
  {
   "cell_type": "code",
   "execution_count": 16,
   "id": "96e63931",
   "metadata": {},
   "outputs": [],
   "source": [
    "# Creamos una funcion.\n",
    "def regresion_lineal_model(feature, target):\n",
    "    #Dividimos conjunto de entrenamiento y validacion 75:25\n",
    "    feature_train, feature_valid, target_train, target_valid = train_test_split(feature, target, random_state=123, test_size=0.25)\n",
    "    \n",
    "    # Aplicamos y ajustamos el modelo con los datos de entrenamiento\n",
    "    modelo = LinearRegression()\n",
    "    modelo.fit(feature_train, target_train)\n",
    "    \n",
    "    # Predecimos el modelo con los datos de validacion y pasamos a series para un mejor trabajo.\n",
    "    modelo_predict = modelo.predict(feature_valid)\n",
    "    predict = pd.Series(modelo_predict)\n",
    "    \n",
    "    # Volumen medio de reservas predicho.\n",
    "    volumen_mean = predict.mean()\n",
    "    \n",
    "    #Volumen real de reservas.\n",
    "    volumen_real = target_valid.mean()\n",
    "    \n",
    "    #RMSE del modelo.\n",
    "    mse = mean_squared_error(target_valid, modelo_predict)\n",
    "    RMSE = mse ** 0.5\n",
    "    \n",
    "    print('Volúmen medio verdadero de reservas en la región:', volumen_real),\n",
    "    print('Volúmen medio de reservas predicho por el modelo:', volumen_mean),\n",
    "    print('RMSE del modelo:', RMSE)\n",
    "\n",
    "    return predict, volumen_mean, RMSE"
   ]
  },
  {
   "cell_type": "code",
   "execution_count": 17,
   "id": "c38c9c24",
   "metadata": {},
   "outputs": [],
   "source": [
    "# Calculando las ganancios de los 200 principales pozos de cada región\n",
    "\n",
    "def pozos_y_gananciap(predict):\n",
    "    #Calculando los 200 pozos\n",
    "    pozos_200 = predict.nlargest(200)\n",
    "\n",
    "    # Calculando la ganancia de los pozos seleccionados\n",
    "\n",
    "    beneficio = (pozos_200.sum()) * 4500 - 100000000\n",
    "\n",
    "    return beneficio"
   ]
  },
  {
   "cell_type": "code",
   "execution_count": 18,
   "id": "eac39ad6",
   "metadata": {},
   "outputs": [],
   "source": [
    "# Calculando el bootstraping.\n",
    "def bootstraping(predict):\n",
    "    state = RandomState(123)\n",
    "    value = []\n",
    "    \n",
    "    for i in range(1000):\n",
    "        subsample = predict.sample(n=500 , replace=True, random_state=state)\n",
    "        ganancia_real = subsample.sum() * 4500 - 100000000\n",
    "        value.append(ganancia_real)\n",
    "        \n",
    "    value = pd.Series(value)\n",
    "    \n",
    "    # Beneficio promedio\n",
    "    beneficio_promedio = value.mean()\n",
    "\n",
    "    # Intervalo de confianza del 95%\n",
    "    lower = value.quantile(0.025)\n",
    "    upper = value.quantile(0.975)\n",
    "\n",
    "    #calcular el riesgo de pérdidas\n",
    "    risk_percent = (predict < 0).sum() / 100\n",
    "\n",
    "    return value, beneficio_promedio, lower, upper, risk_percent"
   ]
  },
  {
   "cell_type": "code",
   "execution_count": null,
   "id": "9becea4d",
   "metadata": {},
   "outputs": [
    {
     "name": "stdout",
     "output_type": "stream",
     "text": [
      "Volúmen medio verdadero de reservas en la región: 92.3493121484093\n",
      "Volúmen medio de reservas predicho por el modelo: 92.6806203637552\n",
      "RMSE del modelo: 37.59580657262362\n"
     ]
    }
   ],
   "source": [
    "#Entrenando la  region 0\n",
    "feature_0 = region_0.drop(columns=['id', 'product'])\n",
    "target_0 = region_0['product']\n",
    "\n",
    "predict_0, volumen_mean_0, RMSE_0 = regresion_lineal_model(feature_0, target_0)"
   ]
  },
  {
   "cell_type": "code",
   "execution_count": 20,
   "id": "3c448fd1",
   "metadata": {},
   "outputs": [
    {
     "name": "stdout",
     "output_type": "stream",
     "text": [
      "Volúmen medio verdadero de reservas en la región: 69.30484767860243\n",
      "Volúmen medio de reservas predicho por el modelo: 69.31422919477677\n",
      "RMSE del modelo: 0.8944711936820188\n"
     ]
    }
   ],
   "source": [
    "#Entrenando la primera region\n",
    "feature_1 = region_1.drop(columns=['id', 'product'])\n",
    "target_1 = region_1['product']\n",
    "\n",
    "predict_1, volumen_mean_1, RMSE_1 = regresion_lineal_model(feature_1, target_1)"
   ]
  },
  {
   "cell_type": "code",
   "execution_count": null,
   "id": "1c0fb667",
   "metadata": {},
   "outputs": [
    {
     "name": "stdout",
     "output_type": "stream",
     "text": [
      "Volúmen medio verdadero de reservas en la región: 94.72734506975256\n",
      "Volúmen medio de reservas predicho por el modelo: 94.93789877099006\n",
      "RMSE del modelo: 40.04908749269798\n"
     ]
    }
   ],
   "source": [
    "#Entrenando la segunda region\n",
    "feature_2 = region_2.drop(columns=['id', 'product'])\n",
    "target_2 = region_2['product']\n",
    "\n",
    "predict_2, volumen_mean_2, RMSE_2 = regresion_lineal_model(feature_2, target_2)"
   ]
  },
  {
   "cell_type": "code",
   "execution_count": 23,
   "id": "97f1d04a",
   "metadata": {},
   "outputs": [
    {
     "data": {
      "text/html": [
       "<div>\n",
       "<style scoped>\n",
       "    .dataframe tbody tr th:only-of-type {\n",
       "        vertical-align: middle;\n",
       "    }\n",
       "\n",
       "    .dataframe tbody tr th {\n",
       "        vertical-align: top;\n",
       "    }\n",
       "\n",
       "    .dataframe thead th {\n",
       "        text-align: right;\n",
       "    }\n",
       "</style>\n",
       "<table border=\"1\" class=\"dataframe\">\n",
       "  <thead>\n",
       "    <tr style=\"text-align: right;\">\n",
       "      <th></th>\n",
       "      <th>RSME</th>\n",
       "    </tr>\n",
       "  </thead>\n",
       "  <tbody>\n",
       "    <tr>\n",
       "      <th>Region_0</th>\n",
       "      <td>37.595807</td>\n",
       "    </tr>\n",
       "    <tr>\n",
       "      <th>Region_1</th>\n",
       "      <td>0.894471</td>\n",
       "    </tr>\n",
       "    <tr>\n",
       "      <th>Region_2</th>\n",
       "      <td>40.049087</td>\n",
       "    </tr>\n",
       "  </tbody>\n",
       "</table>\n",
       "</div>"
      ],
      "text/plain": [
       "                RSME\n",
       " Region_0  37.595807\n",
       "Region_1    0.894471\n",
       "Region_2   40.049087"
      ]
     },
     "execution_count": 23,
     "metadata": {},
     "output_type": "execute_result"
    }
   ],
   "source": [
    "data_resumen_1 = pd.DataFrame(dict(RSME =[RMSE_0, RMSE_1, RMSE_2]), index = [' Region_0', 'Region_1', 'Region_2'])\n",
    "data_resumen_1"
   ]
  },
  {
   "cell_type": "markdown",
   "id": "bb5ddfbe",
   "metadata": {},
   "source": [
    "En los tres casos, el modelo erró entre 0.89 y 40. Sin embargo, el modelo predijo con mas certeza la region 1 con RMSE de 0.89, en las demás regiones presenta errores muy alto, lo que significa que el modelo no esta tan cerca de los valores reales."
   ]
  },
  {
   "cell_type": "markdown",
   "id": "4b3f5720",
   "metadata": {},
   "source": [
    "## Comparamos las reservas minimas de cada región"
   ]
  },
  {
   "cell_type": "code",
   "execution_count": 24,
   "id": "416cff75",
   "metadata": {},
   "outputs": [
    {
     "name": "stdout",
     "output_type": "stream",
     "text": [
      "La cantidad de pozos minimos para no tener perdida es de:111.11111111111111\n"
     ]
    }
   ],
   "source": [
    "# Sacando lo minimo pozos necesario para no tener perdidas.\n",
    "inversion = 100000000\n",
    "ctn_pozos = 200\n",
    "price_pozo = 4500\n",
    "minimo = inversion / ctn_pozos / price_pozo\n",
    "print(f'La cantidad de pozos minimos para no tener perdida es de:{minimo}')"
   ]
  },
  {
   "cell_type": "code",
   "execution_count": 25,
   "id": "2a62b9cb",
   "metadata": {},
   "outputs": [
    {
     "name": "stdout",
     "output_type": "stream",
     "text": [
      "Media de unidades de reserva de pozo de region 0 es de: 92.49968421774354\n",
      "Media de unidades de reserva de pozo de region 1 es de: 68.82391591804064\n",
      "Media de unidades de reserva de pozo de region 2 es de: 94.99834211933378\n"
     ]
    }
   ],
   "source": [
    "# Comparamos el promedio real de pozos a nivel de regiones.\n",
    "print('Media de unidades de reserva de pozo de region 0 es de:', region_0['product'].mean())\n",
    "print('Media de unidades de reserva de pozo de region 1 es de:', region_1['product'].mean())\n",
    "print('Media de unidades de reserva de pozo de region 2 es de:', region_2['product'].mean())"
   ]
  },
  {
   "cell_type": "markdown",
   "id": "76d18a91",
   "metadata": {},
   "source": [
    "En promedio, ninguna de las 3 regiones supera el minimo de pozos necesario para la inversion de USD 100000000, sin tener perdidas."
   ]
  },
  {
   "cell_type": "markdown",
   "id": "bd616d2e",
   "metadata": {},
   "source": [
    "## Calculo de ganancia para los 200 principales pozos de cada region"
   ]
  },
  {
   "cell_type": "code",
   "execution_count": 26,
   "id": "2da6118e",
   "metadata": {},
   "outputs": [
    {
     "name": "stdout",
     "output_type": "stream",
     "text": [
      "Ganancia potencial de los 200 principales pozos de la region 0 es de: USD 39046563.01780316\n",
      "Ganancia potencial de los 200 principales pozos de la region 1 es de: USD 24897284.84390293\n",
      "Ganancia potencial de los 200 principales pozos de la region 2 es de: USD 34245305.88667789\n"
     ]
    }
   ],
   "source": [
    "# Calculo de ganancias de los principales pozos\n",
    "beneficio0 = pozos_y_gananciap(predict_0)\n",
    "beneficio1 = pozos_y_gananciap(predict_1)\n",
    "beneficio2 = pozos_y_gananciap(predict_2)\n",
    "\n",
    "print(f'Ganancia potencial de los 200 principales pozos de la region 0 es de: USD {beneficio0}')\n",
    "print(f'Ganancia potencial de los 200 principales pozos de la region 1 es de: USD {beneficio1}')\n",
    "print(f'Ganancia potencial de los 200 principales pozos de la region 2 es de: USD {beneficio2}')"
   ]
  },
  {
   "cell_type": "markdown",
   "id": "c46af1c0",
   "metadata": {},
   "source": [
    "De acuerdo al modelo entrenado la region 0 nos una ganancia aproximado de USD 39 millones en comparación a las demás regiones."
   ]
  },
  {
   "cell_type": "markdown",
   "id": "1474de00",
   "metadata": {},
   "source": [
    "## Aplicando bootstraping, beneficio promedio y riesgo"
   ]
  },
  {
   "cell_type": "code",
   "execution_count": 27,
   "id": "5f44885e",
   "metadata": {},
   "outputs": [
    {
     "name": "stdout",
     "output_type": "stream",
     "text": [
      "EL beneficio promedio para la region 0 es de: USD 108558010.85805756\n",
      "El intervalo de confianza para las ganancias en la region '0' es entre 104036553.72684172 y 112781069.04960823 millones\n",
      "Riesgo de pérdidas en región '0': 0.01 %\n"
     ]
    }
   ],
   "source": [
    "#Calculando el beneficio promedio, intervalo de confianza y riesgo de perdidad en la region 0\n",
    "values_0, beneficio_promedio_0, lower_0, upper_0, risk_percent_0 = bootstraping(predict_0)\n",
    "\n",
    "print(f'EL beneficio promedio para la region 0 es de: USD {beneficio_promedio_0}')\n",
    "print(f\"El intervalo de confianza para las ganancias en la region '0' es entre {lower_0} y {upper_0} millones\")\n",
    "print(f\"Riesgo de pérdidas en región '0': {risk_percent_0} %\")"
   ]
  },
  {
   "cell_type": "code",
   "execution_count": 28,
   "id": "41443491",
   "metadata": {},
   "outputs": [
    {
     "data": {
      "text/plain": [
       "<matplotlib.lines.Line2D at 0x273335b2f30>"
      ]
     },
     "execution_count": 28,
     "metadata": {},
     "output_type": "execute_result"
    },
    {
     "data": {
      "image/png": "[encoded data removed]",
      "text/plain": [
       "<Figure size 640x480 with 1 Axes>"
      ]
     },
     "metadata": {},
     "output_type": "display_data"
    }
   ],
   "source": [
    "# Graficando el beneficio promedio y mi intervalo de confianza.\n",
    "# Graficar el histograma de los datos\n",
    "plt.hist(values_0, bins=20, alpha=0.6, color='g', label='Datos')\n",
    "# Añadir línea para el beneficio promedio\n",
    "plt.axvline(beneficio_promedio_0, color='b', linestyle='dashed', linewidth=2, label=f'Beneficio Promedio: {beneficio_promedio_0:.2f}')\n",
    "# Dibujar el intervalo de confianza\n",
    "plt.axvline(lower_0, color='r', linestyle='dotted', label=f'IC Inferior: {lower_0:.2f}')\n",
    "plt.axvline(upper_0, color='r', linestyle='dotted', label=f'IC Superior: {upper_0:.2f}')"
   ]
  },
  {
   "cell_type": "code",
   "execution_count": 29,
   "id": "ba44dfd6",
   "metadata": {},
   "outputs": [
    {
     "name": "stdout",
     "output_type": "stream",
     "text": [
      "EL beneficio promedio para la region 1 es de: USD 56191095.98431268\n",
      "El intervalo de confianza para las ganancias en la region '0' es entre 47472947.23188413 y 65271300.80657752 millones\n",
      "Riesgo de pérdidas en región '0': 5.27 %\n"
     ]
    }
   ],
   "source": [
    "#Calculando el beneficio promedio, intervalo de confianza y riesgo de perdidad en la region 1\n",
    "values_1, beneficio_promedio_1, lower_1, upper_1, risk_percent_1 = bootstraping(predict_1)\n",
    "\n",
    "print(f'EL beneficio promedio para la region 1 es de: USD {beneficio_promedio_1}')\n",
    "print(f\"El intervalo de confianza para las ganancias en la region '0' es entre {lower_1} y {upper_1} millones\")\n",
    "print(f\"Riesgo de pérdidas en región '0': {risk_percent_1} %\")"
   ]
  },
  {
   "cell_type": "code",
   "execution_count": 30,
   "id": "230137d1",
   "metadata": {},
   "outputs": [
    {
     "data": {
      "text/plain": [
       "<matplotlib.lines.Line2D at 0x273342b6b40>"
      ]
     },
     "execution_count": 30,
     "metadata": {},
     "output_type": "execute_result"
    },
    {
     "data": {
      "image/png": "[encoded data removed]",
      "text/plain": [
       "<Figure size 640x480 with 1 Axes>"
      ]
     },
     "metadata": {},
     "output_type": "display_data"
    }
   ],
   "source": [
    "#Graficando el beneficio promedio y mi intervalo de confianza.\n",
    "# Graficar el histograma de los datos\n",
    "plt.hist(values_1, bins=20, alpha=0.6, color='g', label='Datos')\n",
    "# Añadir línea para el beneficio promedio\n",
    "plt.axvline(beneficio_promedio_1, color='b', linestyle='dashed', linewidth=2, label=f'Beneficio Promedio: {beneficio_promedio_1:.2f}')\n",
    "# Dibujar el intervalo de confianza\n",
    "plt.axvline(lower_1, color='r', linestyle='dotted', label=f'IC Inferior: {lower_1:.2f}')\n",
    "plt.axvline(upper_1, color='r', linestyle='dotted', label=f'IC Superior: {upper_1:.2f}')"
   ]
  },
  {
   "cell_type": "code",
   "execution_count": 31,
   "id": "1b1b1651",
   "metadata": {},
   "outputs": [
    {
     "name": "stdout",
     "output_type": "stream",
     "text": [
      "EL beneficio promedio para la region 1 es de: USD 113587828.7928065\n",
      "El intervalo de confianza para las ganancias en la region '0' es entre 109699908.02061674 y 117430601.13759786 millones\n",
      "Riesgo de pérdidas en región '0': 0.0 %\n"
     ]
    }
   ],
   "source": [
    "#Calculando el beneficio promedio, intervalo de confianza y riesgo de perdidad en la region 2\n",
    "values_2, beneficio_promedio_2, lower_2, upper_2, risk_percent_2 = bootstraping(predict_2)\n",
    "\n",
    "print(f'EL beneficio promedio para la region 1 es de: USD {beneficio_promedio_2}')\n",
    "print(f\"El intervalo de confianza para las ganancias en la region '0' es entre {lower_2} y {upper_2} millones\")\n",
    "print(f\"Riesgo de pérdidas en región '0': {risk_percent_2} %\")"
   ]
  },
  {
   "cell_type": "code",
   "execution_count": 32,
   "id": "8b079f51",
   "metadata": {},
   "outputs": [
    {
     "data": {
      "text/plain": [
       "<matplotlib.lines.Line2D at 0x2733522d040>"
      ]
     },
     "execution_count": 32,
     "metadata": {},
     "output_type": "execute_result"
    },
    {
     "data": {
      "image/png": "[encoded data removed]",
      "text/plain": [
       "<Figure size 640x480 with 1 Axes>"
      ]
     },
     "metadata": {},
     "output_type": "display_data"
    }
   ],
   "source": [
    "#Graficando el beneficio promedio y mi intervalo de confianza.\n",
    "# Graficar el histograma de los datos\n",
    "plt.hist(values_2, bins=20, alpha=0.6, color='g', label='Datos')\n",
    "# Añadir línea para el beneficio promedio\n",
    "plt.axvline(beneficio_promedio_2, color='b', linestyle='dashed', linewidth=2, label=f'Beneficio Promedio: {beneficio_promedio_1:.2f}')\n",
    "# Dibujar el intervalo de confianza\n",
    "plt.axvline(lower_2, color='r', linestyle='dotted', label=f'IC Inferior: {lower_2:.2f}')\n",
    "plt.axvline(upper_2, color='r', linestyle='dotted', label=f'IC Superior: {upper_2:.2f}')"
   ]
  },
  {
   "cell_type": "code",
   "execution_count": null,
   "id": "8f15c774",
   "metadata": {},
   "outputs": [],
   "source": []
  }
 ],
 "metadata": {
  "kernelspec": {
   "display_name": "Python 3",
   "language": "python",
   "name": "python3"
  },
  "language_info": {
   "codemirror_mode": {
    "name": "ipython",
    "version": 3
   },
   "file_extension": ".py",
   "mimetype": "text/x-python",
   "name": "python",
   "nbconvert_exporter": "python",
   "pygments_lexer": "ipython3",
   "version": "3.12.7"
  }
 },
 "nbformat": 4,
 "nbformat_minor": 5
}
